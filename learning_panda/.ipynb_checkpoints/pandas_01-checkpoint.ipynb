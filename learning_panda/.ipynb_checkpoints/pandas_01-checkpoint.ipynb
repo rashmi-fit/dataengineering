{
 "cells": [
  {
   "cell_type": "code",
   "execution_count": 25,
   "id": "3fc36fb9-d0f7-46b0-bac8-1a30ad883e3a",
   "metadata": {},
   "outputs": [],
   "source": [
    "import pandas as pd\n",
    "import logging"
   ]
  },
  {
   "cell_type": "code",
   "execution_count": 7,
   "id": "e96a1d33-0422-45f4-82d8-8299e7afcc33",
   "metadata": {},
   "outputs": [],
   "source": [
    "df = pd.read_excel(\"/Users/rmn7591/Downloads/internal overview_report data_fullyoa_aug_2025.xlsx\")"
   ]
  },
  {
   "cell_type": "code",
   "execution_count": 8,
   "id": "7fea9148-d538-4a03-af1d-3e36156667e4",
   "metadata": {},
   "outputs": [
    {
     "data": {
      "text/html": [
       "<div>\n",
       "<style scoped>\n",
       "    .dataframe tbody tr th:only-of-type {\n",
       "        vertical-align: middle;\n",
       "    }\n",
       "\n",
       "    .dataframe tbody tr th {\n",
       "        vertical-align: top;\n",
       "    }\n",
       "\n",
       "    .dataframe thead th {\n",
       "        text-align: right;\n",
       "    }\n",
       "</style>\n",
       "<table border=\"1\" class=\"dataframe\">\n",
       "  <thead>\n",
       "    <tr style=\"text-align: right;\">\n",
       "      <th></th>\n",
       "      <th>DOI</th>\n",
       "      <th>Manuscript ID</th>\n",
       "      <th>allocation_month</th>\n",
       "      <th>allocation_year</th>\n",
       "      <th>publication_month</th>\n",
       "      <th>publication_year</th>\n",
       "      <th>Consortium</th>\n",
       "      <th>License ID</th>\n",
       "      <th>Approving Institution</th>\n",
       "      <th>Article Title</th>\n",
       "      <th>...</th>\n",
       "      <th>Approver BPID</th>\n",
       "      <th>Approving institution contract ID</th>\n",
       "      <th>GRID ID</th>\n",
       "      <th>parental DEAL ID</th>\n",
       "      <th>Allocation Month</th>\n",
       "      <th>Approver Email</th>\n",
       "      <th>FundRef ID</th>\n",
       "      <th>Fund Name</th>\n",
       "      <th>Grant Number</th>\n",
       "      <th>Comments</th>\n",
       "    </tr>\n",
       "  </thead>\n",
       "  <tbody>\n",
       "    <tr>\n",
       "      <th>0</th>\n",
       "      <td>10.1186/S12894-021-00865-W</td>\n",
       "      <td>#1800151357204291</td>\n",
       "      <td>2024/03</td>\n",
       "      <td>2024</td>\n",
       "      <td>2024/03</td>\n",
       "      <td>2021</td>\n",
       "      <td>WIS</td>\n",
       "      <td>TBD</td>\n",
       "      <td>Weizmann Institute of Science</td>\n",
       "      <td>Comparative Study Of Renal Drainage With Diffe...</td>\n",
       "      <td>...</td>\n",
       "      <td>2.000334e+09</td>\n",
       "      <td>5.307159e+09</td>\n",
       "      <td>NaN</td>\n",
       "      <td>NaN</td>\n",
       "      <td>March 2024</td>\n",
       "      <td>yael.kahana@weizmann.ac.il</td>\n",
       "      <td>NaN</td>\n",
       "      <td>NaN</td>\n",
       "      <td>NaN</td>\n",
       "      <td>NaN</td>\n",
       "    </tr>\n",
       "    <tr>\n",
       "      <th>1</th>\n",
       "      <td>10.1186/S12981-023-00534-Y</td>\n",
       "      <td>c3c7770c-bad5-4c20-b4cd-962ca96b8b8a</td>\n",
       "      <td>2025/02</td>\n",
       "      <td>2025</td>\n",
       "      <td>2023/06</td>\n",
       "      <td>2023</td>\n",
       "      <td>CDL</td>\n",
       "      <td>77882</td>\n",
       "      <td>University of California, Berkeley</td>\n",
       "      <td>Increased Prevalence Of Depression And Anxiety...</td>\n",
       "      <td>...</td>\n",
       "      <td>8.200833e+09</td>\n",
       "      <td>5.501232e+09</td>\n",
       "      <td>grid.47840.3f</td>\n",
       "      <td>NaN</td>\n",
       "      <td>February 2025</td>\n",
       "      <td>mark.clemente@ucop.edu</td>\n",
       "      <td>NaN</td>\n",
       "      <td>NaN</td>\n",
       "      <td>NaN</td>\n",
       "      <td>NaN</td>\n",
       "    </tr>\n",
       "    <tr>\n",
       "      <th>2</th>\n",
       "      <td>10.1186/S40562-023-00304-8</td>\n",
       "      <td>NaN</td>\n",
       "      <td>2024/01</td>\n",
       "      <td>2024</td>\n",
       "      <td>2023/10</td>\n",
       "      <td>2023</td>\n",
       "      <td>JISC</td>\n",
       "      <td>100605</td>\n",
       "      <td>University of Bath</td>\n",
       "      <td>The Landslide Source Of The Eastern Mediterran...</td>\n",
       "      <td>...</td>\n",
       "      <td>2.000332e+09</td>\n",
       "      <td>5.308472e+09</td>\n",
       "      <td>NaN</td>\n",
       "      <td>NaN</td>\n",
       "      <td>January 2024</td>\n",
       "      <td>openaccess@bath.ac.uk</td>\n",
       "      <td>NaN</td>\n",
       "      <td>NaN</td>\n",
       "      <td>NaN</td>\n",
       "      <td>NaN</td>\n",
       "    </tr>\n",
       "    <tr>\n",
       "      <th>3</th>\n",
       "      <td>10.1186/S12877-023-04576-9</td>\n",
       "      <td>NaN</td>\n",
       "      <td>2024/01</td>\n",
       "      <td>2024</td>\n",
       "      <td>2023/12</td>\n",
       "      <td>2023</td>\n",
       "      <td>INSTITUTION</td>\n",
       "      <td>TBD</td>\n",
       "      <td>University of Ottawa</td>\n",
       "      <td>“I Can’T Imagine Having To Do It On Your Own”:...</td>\n",
       "      <td>...</td>\n",
       "      <td>3.000162e+09</td>\n",
       "      <td>5.501112e+09</td>\n",
       "      <td>NaN</td>\n",
       "      <td>NaN</td>\n",
       "      <td>January 2024</td>\n",
       "      <td>cssc@uottawa.ca</td>\n",
       "      <td>NaN</td>\n",
       "      <td>NaN</td>\n",
       "      <td>NaN</td>\n",
       "      <td>NaN</td>\n",
       "    </tr>\n",
       "    <tr>\n",
       "      <th>4</th>\n",
       "      <td>10.1038/S41526-023-00340-W</td>\n",
       "      <td>NaN</td>\n",
       "      <td>2024/01</td>\n",
       "      <td>2024</td>\n",
       "      <td>2023/12</td>\n",
       "      <td>2023</td>\n",
       "      <td>JOURNAL</td>\n",
       "      <td>TBD</td>\n",
       "      <td>NASA Shared Services Center</td>\n",
       "      <td>Transcriptomic Dynamics In The Transition From...</td>\n",
       "      <td>...</td>\n",
       "      <td>3.005746e+09</td>\n",
       "      <td>5.501112e+09</td>\n",
       "      <td>NaN</td>\n",
       "      <td>NaN</td>\n",
       "      <td>January 2024</td>\n",
       "      <td>Springer Nature Support</td>\n",
       "      <td>NaN</td>\n",
       "      <td>NaN</td>\n",
       "      <td>NaN</td>\n",
       "      <td>NaN</td>\n",
       "    </tr>\n",
       "  </tbody>\n",
       "</table>\n",
       "<p>5 rows × 40 columns</p>\n",
       "</div>"
      ],
      "text/plain": [
       "                          DOI                         Manuscript ID  \\\n",
       "0  10.1186/S12894-021-00865-W                     #1800151357204291   \n",
       "1  10.1186/S12981-023-00534-Y  c3c7770c-bad5-4c20-b4cd-962ca96b8b8a   \n",
       "2  10.1186/S40562-023-00304-8                                   NaN   \n",
       "3  10.1186/S12877-023-04576-9                                   NaN   \n",
       "4  10.1038/S41526-023-00340-W                                   NaN   \n",
       "\n",
       "  allocation_month  allocation_year publication_month  publication_year  \\\n",
       "0          2024/03             2024           2024/03              2021   \n",
       "1          2025/02             2025           2023/06              2023   \n",
       "2          2024/01             2024           2023/10              2023   \n",
       "3          2024/01             2024           2023/12              2023   \n",
       "4          2024/01             2024           2023/12              2023   \n",
       "\n",
       "    Consortium License ID               Approving Institution  \\\n",
       "0          WIS        TBD       Weizmann Institute of Science   \n",
       "1          CDL      77882  University of California, Berkeley   \n",
       "2         JISC     100605                  University of Bath   \n",
       "3  INSTITUTION        TBD                University of Ottawa   \n",
       "4      JOURNAL        TBD         NASA Shared Services Center   \n",
       "\n",
       "                                       Article Title  ... Approver BPID  \\\n",
       "0  Comparative Study Of Renal Drainage With Diffe...  ...  2.000334e+09   \n",
       "1  Increased Prevalence Of Depression And Anxiety...  ...  8.200833e+09   \n",
       "2  The Landslide Source Of The Eastern Mediterran...  ...  2.000332e+09   \n",
       "3  “I Can’T Imagine Having To Do It On Your Own”:...  ...  3.000162e+09   \n",
       "4  Transcriptomic Dynamics In The Transition From...  ...  3.005746e+09   \n",
       "\n",
       "   Approving institution contract ID        GRID ID parental DEAL ID  \\\n",
       "0                       5.307159e+09            NaN              NaN   \n",
       "1                       5.501232e+09  grid.47840.3f              NaN   \n",
       "2                       5.308472e+09            NaN              NaN   \n",
       "3                       5.501112e+09            NaN              NaN   \n",
       "4                       5.501112e+09            NaN              NaN   \n",
       "\n",
       "  Allocation Month              Approver Email FundRef ID Fund Name  \\\n",
       "0       March 2024  yael.kahana@weizmann.ac.il        NaN       NaN   \n",
       "1    February 2025      mark.clemente@ucop.edu        NaN       NaN   \n",
       "2     January 2024       openaccess@bath.ac.uk        NaN       NaN   \n",
       "3     January 2024             cssc@uottawa.ca        NaN       NaN   \n",
       "4     January 2024     Springer Nature Support        NaN       NaN   \n",
       "\n",
       "  Grant Number Comments  \n",
       "0          NaN      NaN  \n",
       "1          NaN      NaN  \n",
       "2          NaN      NaN  \n",
       "3          NaN      NaN  \n",
       "4          NaN      NaN  \n",
       "\n",
       "[5 rows x 40 columns]"
      ]
     },
     "execution_count": 8,
     "metadata": {},
     "output_type": "execute_result"
    }
   ],
   "source": [
    "df.head()"
   ]
  },
  {
   "cell_type": "code",
   "execution_count": 9,
   "id": "c7308c86-5066-4d9a-90df-587d49f5f5cd",
   "metadata": {},
   "outputs": [
    {
     "data": {
      "text/plain": [
       "array(['WIS', 'CDL', 'JISC', 'INSTITUTION', 'JOURNAL', 'DEAL', 'SIKT',\n",
       "       'BIBSAM', 'CDL NATURE FULLY OA', 'STDF-EKB', 'HAS', 'ETHZ', 'NIH',\n",
       "       'SJTU', 'VU', 'QNL', 'NWU', 'SU', 'UDR', 'MAHE', 'UMS', 'VIT',\n",
       "       'BITS', 'DAE'], dtype=object)"
      ]
     },
     "execution_count": 9,
     "metadata": {},
     "output_type": "execute_result"
    }
   ],
   "source": [
    " df['Consortium'].unique()"
   ]
  },
  {
   "cell_type": "code",
   "execution_count": 12,
   "id": "7ba936b2-7f74-44a8-8b04-982612ca1285",
   "metadata": {},
   "outputs": [],
   "source": [
    "actual_column = df.columns.tolist()"
   ]
  },
  {
   "cell_type": "code",
   "execution_count": 13,
   "id": "b982deb0-f9bd-4182-a063-fba535fb806b",
   "metadata": {},
   "outputs": [
    {
     "data": {
      "text/plain": [
       "['DOI',\n",
       " 'Manuscript ID',\n",
       " 'allocation_month',\n",
       " 'allocation_year',\n",
       " 'publication_month',\n",
       " 'publication_year',\n",
       " 'Consortium',\n",
       " 'License ID',\n",
       " 'Approving Institution',\n",
       " 'Article Title',\n",
       " 'Article Type',\n",
       " 'Journal ID',\n",
       " 'Journal Title',\n",
       " 'Journal Discipline',\n",
       " 'Journal pISSN',\n",
       " 'Journal eISSN',\n",
       " 'Article License',\n",
       " 'Journal License',\n",
       " 'Acceptance Date',\n",
       " 'OA Approval Date',\n",
       " 'Online Date',\n",
       " 'Corresponding Author Name',\n",
       " 'Corresponding Author Email',\n",
       " 'Currency',\n",
       " 'Internal (min) APC',\n",
       " 'Customer APC',\n",
       " 'List Price APC',\n",
       " 'Institutional APC Share (USD)',\n",
       " 'Author APC Share (USD)',\n",
       " 'Fee Model',\n",
       " 'Approver BPID',\n",
       " 'Approving institution contract ID',\n",
       " 'GRID ID',\n",
       " 'parental DEAL ID',\n",
       " 'Allocation Month',\n",
       " 'Approver Email',\n",
       " 'FundRef ID',\n",
       " 'Fund Name',\n",
       " 'Grant Number',\n",
       " 'Comments']"
      ]
     },
     "execution_count": 13,
     "metadata": {},
     "output_type": "execute_result"
    }
   ],
   "source": [
    "actual_column"
   ]
  },
  {
   "cell_type": "code",
   "execution_count": 19,
   "id": "1b9e780f-e65d-40d3-b56a-3facbae8126b",
   "metadata": {},
   "outputs": [],
   "source": [
    "expected_column = ['DOI',\n",
    " 'Manuscript ID',\n",
    " 'allocation_month',\n",
    " 'allocation_year',\n",
    " 'publication_month',\n",
    " 'publication_year',\n",
    " 'Consortium',\n",
    " 'License ID',\n",
    " 'Approving Institution',\n",
    " 'Article Title',\n",
    " 'Article Type',\n",
    " 'Journal ID',\n",
    " 'Journal Title',\n",
    " 'Journal Discipline',\n",
    " 'Journal pISSN',\n",
    " 'Journal eISSN',\n",
    " 'Article License',\n",
    " 'Journal License',\n",
    " 'Acceptance Date',\n",
    " 'OA Approval Date',\n",
    " 'Online Date',\n",
    " 'Corresponding Author Name',\n",
    " 'Corresponding Author Email',\n",
    " 'Currency',\n",
    " 'Internal (min) APC',\n",
    " 'Customer APC',\n",
    " 'List Price APC',\n",
    " 'Institutional APC Share (USD)',\n",
    " 'Author APC Share (USD)',\n",
    " 'Fee Model',\n",
    " 'Approver BPID',\n",
    " 'Approving institution contract ID',\n",
    " 'GRID ID',\n",
    " 'parental DEAL ID',\n",
    " 'Allocation Month',\n",
    " 'Approver Email',\n",
    " 'FundRef ID',\n",
    " 'Fund Name',\n",
    " 'Grant Number',\n",
    " 'Comments']\n"
   ]
  },
  {
   "cell_type": "code",
   "execution_count": 20,
   "id": "abd6aa42-ba39-4094-b7d1-51fc0bb7ca78",
   "metadata": {},
   "outputs": [],
   "source": [
    "missing_column = [col for col in expected_column if col not in actual_column]"
   ]
  },
  {
   "cell_type": "code",
   "execution_count": 21,
   "id": "e55eca7e-69ee-43eb-9357-01960b8dce52",
   "metadata": {},
   "outputs": [
    {
     "data": {
      "text/plain": [
       "[]"
      ]
     },
     "execution_count": 21,
     "metadata": {},
     "output_type": "execute_result"
    }
   ],
   "source": [
    "missing_column"
   ]
  },
  {
   "cell_type": "code",
   "execution_count": 23,
   "id": "9d64ac6a-2f2d-46cd-b48a-bbca76d8950f",
   "metadata": {},
   "outputs": [
    {
     "name": "stdout",
     "output_type": "stream",
     "text": [
      "nothing is missing: schema matches\n"
     ]
    }
   ],
   "source": [
    "if missing_column:\n",
    "    print(f\"missing: {missing_column}\")\n",
    "else:\n",
    "    print(f\"nothing is missing: schema matches\")\n"
   ]
  },
  {
   "cell_type": "code",
   "execution_count": null,
   "id": "5003cf4e-20ed-42eb-9e6f-6cdfbc3e8870",
   "metadata": {},
   "outputs": [],
   "source": [
    "# using logging"
   ]
  },
  {
   "cell_type": "code",
   "execution_count": 27,
   "id": "30e0a962-b807-4330-90a0-f29c627466ef",
   "metadata": {},
   "outputs": [],
   "source": [
    "file_path = \"/Users/rmn7591/Downloads/internal overview_report data_fullyoa_aug_2025.xlsx\"\n",
    "try:\n",
    "    df = pd.read_excel(file_path)\n",
    "    logging.info(f\"Successfully read file: {file_path}\")\n",
    "except Exception as e:\n",
    "    logging.error(f\"Failed to read file: {file_path} | Error: {e}\")\n",
    "    raise  \n"
   ]
  },
  {
   "cell_type": "code",
   "execution_count": 29,
   "id": "d1d848da-1464-4d2c-abed-4824e904251c",
   "metadata": {},
   "outputs": [
    {
     "data": {
      "text/plain": [
       "(56201, 40)"
      ]
     },
     "execution_count": 29,
     "metadata": {},
     "output_type": "execute_result"
    }
   ],
   "source": [
    "df.shape"
   ]
  },
  {
   "cell_type": "code",
   "execution_count": 28,
   "id": "abc80a17-d1d1-42aa-bf83-013cb88fb695",
   "metadata": {},
   "outputs": [],
   "source": [
    "logging.info(f\"DataFrame shape: {df.shape}\")"
   ]
  },
  {
   "cell_type": "code",
   "execution_count": 30,
   "id": "dd34c322-6c28-4e49-a8e4-4e7bb3bf13c6",
   "metadata": {},
   "outputs": [
    {
     "data": {
      "text/plain": [
       "DOI                                      0\n",
       "Manuscript ID                         7635\n",
       "allocation_month                         0\n",
       "allocation_year                          0\n",
       "publication_month                        0\n",
       "publication_year                         0\n",
       "Consortium                               0\n",
       "License ID                            8906\n",
       "Approving Institution                    2\n",
       "Article Title                            0\n",
       "Article Type                             0\n",
       "Journal ID                               0\n",
       "Journal Title                            3\n",
       "Journal Discipline                      25\n",
       "Journal pISSN                        47393\n",
       "Journal eISSN                           28\n",
       "Article License                        194\n",
       "Journal License                         69\n",
       "Acceptance Date                         46\n",
       "OA Approval Date                         0\n",
       "Online Date                              0\n",
       "Corresponding Author Name                0\n",
       "Corresponding Author Email            5409\n",
       "Currency                              1733\n",
       "Internal (min) APC                    2571\n",
       "Customer APC                         10494\n",
       "List Price APC                       21755\n",
       "Institutional APC Share (USD)        35307\n",
       "Author APC Share (USD)               47475\n",
       "Fee Model                            54220\n",
       "Approver BPID                            1\n",
       "Approving institution contract ID        6\n",
       "GRID ID                              29995\n",
       "parental DEAL ID                     45505\n",
       "Allocation Month                         0\n",
       "Approver Email                       19966\n",
       "FundRef ID                           45724\n",
       "Fund Name                            37309\n",
       "Grant Number                         40649\n",
       "Comments                             56036\n",
       "dtype: int64"
      ]
     },
     "execution_count": 30,
     "metadata": {},
     "output_type": "execute_result"
    }
   ],
   "source": [
    "df.isnull().sum()"
   ]
  },
  {
   "cell_type": "code",
   "execution_count": 33,
   "id": "121a0b14-ddab-4a42-8360-e4bb7ed56a30",
   "metadata": {},
   "outputs": [
    {
     "data": {
      "text/plain": [
       "0                  NaN\n",
       "1        Fully Covered\n",
       "2                  NaN\n",
       "3                  NaN\n",
       "4                  NaN\n",
       "             ...      \n",
       "56196              NaN\n",
       "56197              NaN\n",
       "56198              NaN\n",
       "56199              NaN\n",
       "56200              NaN\n",
       "Name: Fee Model, Length: 56201, dtype: object"
      ]
     },
     "execution_count": 33,
     "metadata": {},
     "output_type": "execute_result"
    }
   ],
   "source": [
    "df[\"Fee Model\"]"
   ]
  },
  {
   "cell_type": "code",
   "execution_count": null,
   "id": "97904129-1248-4c37-90df-4dff3b5fb5ce",
   "metadata": {},
   "outputs": [],
   "source": []
  }
 ],
 "metadata": {
  "kernelspec": {
   "display_name": "Python 3 (ipykernel)",
   "language": "python",
   "name": "python3"
  },
  "language_info": {
   "codemirror_mode": {
    "name": "ipython",
    "version": 3
   },
   "file_extension": ".py",
   "mimetype": "text/x-python",
   "name": "python",
   "nbconvert_exporter": "python",
   "pygments_lexer": "ipython3",
   "version": "3.11.12"
  }
 },
 "nbformat": 4,
 "nbformat_minor": 5
}
