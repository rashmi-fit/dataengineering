{
 "cells": [
  {
   "cell_type": "markdown",
   "metadata": {},
   "source": [
    "Kaggle link : https://www.kaggle.com/code/towhidultonmoy/end-to-end-pyspark-project/input"
   ]
  },
  {
   "cell_type": "code",
   "execution_count": null,
   "metadata": {},
   "outputs": [],
   "source": [
    "# install pyspark\n",
    "# !pip install pyspark\n",
    "# Initialize spark session\n"
   ]
  },
  {
   "cell_type": "code",
   "execution_count": 3,
   "metadata": {},
   "outputs": [
    {
     "name": "stderr",
     "output_type": "stream",
     "text": [
      "Setting default log level to \"WARN\".\n",
      "To adjust logging level use sc.setLogLevel(newLevel). For SparkR, use setLogLevel(newLevel).\n",
      "23/10/19 23:51:16 WARN NativeCodeLoader: Unable to load native-hadoop library for your platform... using builtin-java classes where applicable\n"
     ]
    }
   ],
   "source": [
    "from pyspark.sql import SparkSession\n",
    "spark = SparkSession.builder.appName(\"MyAppName\").getOrCreate()\n"
   ]
  },
  {
   "cell_type": "code",
   "execution_count": 4,
   "metadata": {},
   "outputs": [
    {
     "data": {
      "text/html": [
       "\n",
       "            <div>\n",
       "                <p><b>SparkSession - in-memory</b></p>\n",
       "                \n",
       "        <div>\n",
       "            <p><b>SparkContext</b></p>\n",
       "\n",
       "            <p><a href=\"http://192.168.0.11:4040\">Spark UI</a></p>\n",
       "\n",
       "            <dl>\n",
       "              <dt>Version</dt>\n",
       "                <dd><code>v3.5.0</code></dd>\n",
       "              <dt>Master</dt>\n",
       "                <dd><code>local[*]</code></dd>\n",
       "              <dt>AppName</dt>\n",
       "                <dd><code>MyAppName</code></dd>\n",
       "            </dl>\n",
       "        </div>\n",
       "        \n",
       "            </div>\n",
       "        "
      ],
      "text/plain": [
       "<pyspark.sql.session.SparkSession at 0x1364d7790>"
      ]
     },
     "execution_count": 4,
     "metadata": {},
     "output_type": "execute_result"
    }
   ],
   "source": [
    "spark\n"
   ]
  },
  {
   "cell_type": "code",
   "execution_count": 5,
   "metadata": {},
   "outputs": [
    {
     "name": "stderr",
     "output_type": "stream",
     "text": [
      "                                                                                \r"
     ]
    },
    {
     "name": "stdout",
     "output_type": "stream",
     "text": [
      "+---+--------------------+----------------+-----------------+----+---+---+\n",
      "|faa|                name|             lat|              lon| alt| tz|dst|\n",
      "+---+--------------------+----------------+-----------------+----+---+---+\n",
      "|04G|   Lansdowne Airport|      41.1304722|      -80.6195833|1044| -5|  A|\n",
      "|06A|Moton Field Munic...|      32.4605722|      -85.6800278| 264| -5|  A|\n",
      "|06C| Schaumburg Regional|      41.9893408|      -88.1012428| 801| -6|  A|\n",
      "|06N|     Randall Airport|       41.431912|      -74.3915611| 523| -5|  A|\n",
      "|09J|Jekyll Island Air...|      31.0744722|      -81.4277778|  11| -4|  A|\n",
      "|0A9|Elizabethton Muni...|      36.3712222|      -82.1734167|1593| -4|  A|\n",
      "|0G6|Williams County A...|      41.4673056|      -84.5067778| 730| -5|  A|\n",
      "|0G7|Finger Lakes Regi...|      42.8835647|      -76.7812318| 492| -5|  A|\n",
      "|0P2|Shoestring Aviati...|      39.7948244|      -76.6471914|1000| -5|  U|\n",
      "|0S9|Jefferson County ...|      48.0538086|     -122.8106436| 108| -8|  A|\n",
      "|0W3|Harford County Ai...|      39.5668378|      -76.2024028| 409| -5|  A|\n",
      "|10C|  Galt Field Airport|      42.4028889|      -88.3751111| 875| -6|  U|\n",
      "|17G|Port Bucyrus-Craw...|      40.7815556|      -82.9748056|1003| -5|  A|\n",
      "|19A|Jackson County Ai...|      34.1758638|      -83.5615972| 951| -4|  U|\n",
      "|1A3|Martin Campbell F...|      35.0158056|      -84.3468333|1789| -4|  A|\n",
      "|1B9| Mansfield Municipal|      42.0001331|      -71.1967714| 122| -5|  A|\n",
      "|1C9|Frazier Lake Airpark|54.0133333333333|-124.768333333333| 152| -8|  A|\n",
      "|1CS|Clow Internationa...|      41.6959744|      -88.1292306| 670| -6|  U|\n",
      "|1G3|  Kent State Airport|      41.1513889|      -81.4151111|1134| -4|  A|\n",
      "|1OH|     Fortman Airport|      40.5553253|      -84.3866186| 885| -5|  U|\n",
      "+---+--------------------+----------------+-----------------+----+---+---+\n",
      "only showing top 20 rows\n",
      "\n"
     ]
    }
   ],
   "source": [
    "file_path = \"files/airports.xls\"\n",
    "airports = spark.read.csv(file_path, header= True)\n",
    "airports.show()\n"
   ]
  },
  {
   "cell_type": "code",
   "execution_count": 6,
   "metadata": {},
   "outputs": [
    {
     "data": {
      "text/plain": [
       "pyspark.sql.dataframe.DataFrame"
      ]
     },
     "execution_count": 6,
     "metadata": {},
     "output_type": "execute_result"
    }
   ],
   "source": [
    "type(airports)\n"
   ]
  },
  {
   "cell_type": "markdown",
   "metadata": {},
   "source": [
    "createOrReplaceTempView, it will create a table  inside Spark, and you can write SQL queries on top  "
   ]
  },
  {
   "cell_type": "code",
   "execution_count": 7,
   "metadata": {},
   "outputs": [],
   "source": [
    "airports.createOrReplaceTempView(\"airports\")\n"
   ]
  },
  {
   "cell_type": "markdown",
   "metadata": {},
   "source": [
    "Querying data with pyspark"
   ]
  },
  {
   "cell_type": "code",
   "execution_count": 10,
   "metadata": {},
   "outputs": [],
   "source": [
    "query_airports = \"select * from airports limit 10\"\n"
   ]
  },
  {
   "cell_type": "code",
   "execution_count": 11,
   "metadata": {},
   "outputs": [
    {
     "name": "stdout",
     "output_type": "stream",
     "text": [
      "+---+--------------------+----------+------------+----+---+---+\n",
      "|faa|                name|       lat|         lon| alt| tz|dst|\n",
      "+---+--------------------+----------+------------+----+---+---+\n",
      "|04G|   Lansdowne Airport|41.1304722| -80.6195833|1044| -5|  A|\n",
      "|06A|Moton Field Munic...|32.4605722| -85.6800278| 264| -5|  A|\n",
      "|06C| Schaumburg Regional|41.9893408| -88.1012428| 801| -6|  A|\n",
      "|06N|     Randall Airport| 41.431912| -74.3915611| 523| -5|  A|\n",
      "|09J|Jekyll Island Air...|31.0744722| -81.4277778|  11| -4|  A|\n",
      "|0A9|Elizabethton Muni...|36.3712222| -82.1734167|1593| -4|  A|\n",
      "|0G6|Williams County A...|41.4673056| -84.5067778| 730| -5|  A|\n",
      "|0G7|Finger Lakes Regi...|42.8835647| -76.7812318| 492| -5|  A|\n",
      "|0P2|Shoestring Aviati...|39.7948244| -76.6471914|1000| -5|  U|\n",
      "|0S9|Jefferson County ...|48.0538086|-122.8106436| 108| -8|  A|\n",
      "+---+--------------------+----------+------------+----+---+---+\n",
      "\n"
     ]
    }
   ],
   "source": [
    "airports10 = spark.sql(query_airports)\n",
    "airports10.show()\n"
   ]
  },
  {
   "cell_type": "code",
   "execution_count": 12,
   "metadata": {},
   "outputs": [
    {
     "data": {
      "text/html": [
       "<div>\n",
       "<style scoped>\n",
       "    .dataframe tbody tr th:only-of-type {\n",
       "        vertical-align: middle;\n",
       "    }\n",
       "\n",
       "    .dataframe tbody tr th {\n",
       "        vertical-align: top;\n",
       "    }\n",
       "\n",
       "    .dataframe thead th {\n",
       "        text-align: right;\n",
       "    }\n",
       "</style>\n",
       "<table border=\"1\" class=\"dataframe\">\n",
       "  <thead>\n",
       "    <tr style=\"text-align: right;\">\n",
       "      <th></th>\n",
       "      <th>faa</th>\n",
       "      <th>name</th>\n",
       "      <th>lat</th>\n",
       "      <th>lon</th>\n",
       "      <th>alt</th>\n",
       "      <th>tz</th>\n",
       "      <th>dst</th>\n",
       "    </tr>\n",
       "  </thead>\n",
       "  <tbody>\n",
       "    <tr>\n",
       "      <th>0</th>\n",
       "      <td>04G</td>\n",
       "      <td>Lansdowne Airport</td>\n",
       "      <td>41.1304722</td>\n",
       "      <td>-80.6195833</td>\n",
       "      <td>1044</td>\n",
       "      <td>-5</td>\n",
       "      <td>A</td>\n",
       "    </tr>\n",
       "    <tr>\n",
       "      <th>1</th>\n",
       "      <td>06A</td>\n",
       "      <td>Moton Field Municipal Airport</td>\n",
       "      <td>32.4605722</td>\n",
       "      <td>-85.6800278</td>\n",
       "      <td>264</td>\n",
       "      <td>-5</td>\n",
       "      <td>A</td>\n",
       "    </tr>\n",
       "    <tr>\n",
       "      <th>2</th>\n",
       "      <td>06C</td>\n",
       "      <td>Schaumburg Regional</td>\n",
       "      <td>41.9893408</td>\n",
       "      <td>-88.1012428</td>\n",
       "      <td>801</td>\n",
       "      <td>-6</td>\n",
       "      <td>A</td>\n",
       "    </tr>\n",
       "    <tr>\n",
       "      <th>3</th>\n",
       "      <td>06N</td>\n",
       "      <td>Randall Airport</td>\n",
       "      <td>41.431912</td>\n",
       "      <td>-74.3915611</td>\n",
       "      <td>523</td>\n",
       "      <td>-5</td>\n",
       "      <td>A</td>\n",
       "    </tr>\n",
       "    <tr>\n",
       "      <th>4</th>\n",
       "      <td>09J</td>\n",
       "      <td>Jekyll Island Airport</td>\n",
       "      <td>31.0744722</td>\n",
       "      <td>-81.4277778</td>\n",
       "      <td>11</td>\n",
       "      <td>-4</td>\n",
       "      <td>A</td>\n",
       "    </tr>\n",
       "    <tr>\n",
       "      <th>5</th>\n",
       "      <td>0A9</td>\n",
       "      <td>Elizabethton Municipal Airport</td>\n",
       "      <td>36.3712222</td>\n",
       "      <td>-82.1734167</td>\n",
       "      <td>1593</td>\n",
       "      <td>-4</td>\n",
       "      <td>A</td>\n",
       "    </tr>\n",
       "    <tr>\n",
       "      <th>6</th>\n",
       "      <td>0G6</td>\n",
       "      <td>Williams County Airport</td>\n",
       "      <td>41.4673056</td>\n",
       "      <td>-84.5067778</td>\n",
       "      <td>730</td>\n",
       "      <td>-5</td>\n",
       "      <td>A</td>\n",
       "    </tr>\n",
       "    <tr>\n",
       "      <th>7</th>\n",
       "      <td>0G7</td>\n",
       "      <td>Finger Lakes Regional Airport</td>\n",
       "      <td>42.8835647</td>\n",
       "      <td>-76.7812318</td>\n",
       "      <td>492</td>\n",
       "      <td>-5</td>\n",
       "      <td>A</td>\n",
       "    </tr>\n",
       "    <tr>\n",
       "      <th>8</th>\n",
       "      <td>0P2</td>\n",
       "      <td>Shoestring Aviation Airfield</td>\n",
       "      <td>39.7948244</td>\n",
       "      <td>-76.6471914</td>\n",
       "      <td>1000</td>\n",
       "      <td>-5</td>\n",
       "      <td>U</td>\n",
       "    </tr>\n",
       "    <tr>\n",
       "      <th>9</th>\n",
       "      <td>0S9</td>\n",
       "      <td>Jefferson County Intl</td>\n",
       "      <td>48.0538086</td>\n",
       "      <td>-122.8106436</td>\n",
       "      <td>108</td>\n",
       "      <td>-8</td>\n",
       "      <td>A</td>\n",
       "    </tr>\n",
       "  </tbody>\n",
       "</table>\n",
       "</div>"
      ],
      "text/plain": [
       "   faa                            name         lat           lon   alt  tz dst\n",
       "0  04G               Lansdowne Airport  41.1304722   -80.6195833  1044  -5   A\n",
       "1  06A   Moton Field Municipal Airport  32.4605722   -85.6800278   264  -5   A\n",
       "2  06C             Schaumburg Regional  41.9893408   -88.1012428   801  -6   A\n",
       "3  06N                 Randall Airport   41.431912   -74.3915611   523  -5   A\n",
       "4  09J           Jekyll Island Airport  31.0744722   -81.4277778    11  -4   A\n",
       "5  0A9  Elizabethton Municipal Airport  36.3712222   -82.1734167  1593  -4   A\n",
       "6  0G6         Williams County Airport  41.4673056   -84.5067778   730  -5   A\n",
       "7  0G7   Finger Lakes Regional Airport  42.8835647   -76.7812318   492  -5   A\n",
       "8  0P2    Shoestring Aviation Airfield  39.7948244   -76.6471914  1000  -5   U\n",
       "9  0S9           Jefferson County Intl  48.0538086  -122.8106436   108  -8   A"
      ]
     },
     "execution_count": 12,
     "metadata": {},
     "output_type": "execute_result"
    }
   ],
   "source": [
    "airports10_df = airports10.toPandas()\n",
    "airports10_df\n"
   ]
  },
  {
   "cell_type": "markdown",
   "metadata": {},
   "source": [
    "filter a table by filter and show lazy evaluation"
   ]
  },
  {
   "cell_type": "code",
   "execution_count": 17,
   "metadata": {},
   "outputs": [],
   "source": [
    "filterA = airports.name == \"Lansdowne Airport\"\n",
    "filterB = airports.dst == \"A\"\n",
    "airports_filter = airports.filter(filterA).filter(filterB)\n"
   ]
  },
  {
   "cell_type": "code",
   "execution_count": 18,
   "metadata": {},
   "outputs": [
    {
     "name": "stdout",
     "output_type": "stream",
     "text": [
      "+---+-----------------+----------+-----------+----+---+---+\n",
      "|faa|             name|       lat|        lon| alt| tz|dst|\n",
      "+---+-----------------+----------+-----------+----+---+---+\n",
      "|04G|Lansdowne Airport|41.1304722|-80.6195833|1044| -5|  A|\n",
      "+---+-----------------+----------+-----------+----+---+---+\n",
      "\n"
     ]
    }
   ],
   "source": [
    "airports_filter.show()\n"
   ]
  }
 ],
 "metadata": {
  "kernelspec": {
   "display_name": "Python 3",
   "language": "python",
   "name": "python3"
  },
  "language_info": {
   "codemirror_mode": {
    "name": "ipython",
    "version": 3
   },
   "file_extension": ".py",
   "mimetype": "text/x-python",
   "name": "python",
   "nbconvert_exporter": "python",
   "pygments_lexer": "ipython3",
   "version": "3.11.6"
  }
 },
 "nbformat": 4,
 "nbformat_minor": 2
}
